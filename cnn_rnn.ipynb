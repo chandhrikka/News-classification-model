{
 "cells": [
  {
   "cell_type": "code",
   "execution_count": 1,
   "id": "b0413a2b",
   "metadata": {},
   "outputs": [],
   "source": [
    "import pandas as pd\n",
    "from sklearn.model_selection import train_test_split\n",
    "from sklearn.preprocessing import LabelEncoder"
   ]
  },
  {
   "cell_type": "code",
   "execution_count": 2,
   "id": "ec265397",
   "metadata": {},
   "outputs": [],
   "source": [
    "\n",
    "df = pd.read_csv('preprocessed_data.csv')"
   ]
  },
  {
   "cell_type": "code",
   "execution_count": 3,
   "id": "a04d1a25",
   "metadata": {},
   "outputs": [],
   "source": [
    "df = df.dropna(subset=['cleaned_headline'])"
   ]
  },
  {
   "cell_type": "code",
   "execution_count": 4,
   "id": "bf6a967c",
   "metadata": {},
   "outputs": [],
   "source": [
    "\n",
    "label_encoder = LabelEncoder()\n",
    "df['category_encoded'] = label_encoder.fit_transform(df['category'])"
   ]
  },
  {
   "cell_type": "code",
   "execution_count": 5,
   "id": "49683378",
   "metadata": {},
   "outputs": [],
   "source": [
    "\n",
    "X = df['cleaned_headline']\n",
    "y = df['category_encoded']\n",
    "X_train, X_temp, y_train, y_temp = train_test_split(X, y, test_size=0.25, random_state=42)\n",
    "X_val, X_test, y_val, y_test = train_test_split(X_temp, y_temp, test_size=0.6, random_state=42)"
   ]
  },
  {
   "cell_type": "code",
   "execution_count": 6,
   "id": "10af041c",
   "metadata": {},
   "outputs": [
    {
     "name": "stderr",
     "output_type": "stream",
     "text": [
      "2023-09-21 13:10:34.659754: I tensorflow/core/platform/cpu_feature_guard.cc:182] This TensorFlow binary is optimized to use available CPU instructions in performance-critical operations.\n",
      "To enable the following instructions: AVX2 FMA, in other operations, rebuild TensorFlow with the appropriate compiler flags.\n"
     ]
    }
   ],
   "source": [
    "from tensorflow.keras.preprocessing.text import Tokenizer\n",
    "from tensorflow.keras.preprocessing.sequence import pad_sequences"
   ]
  },
  {
   "cell_type": "code",
   "execution_count": 7,
   "id": "6d812085",
   "metadata": {},
   "outputs": [],
   "source": [
    "max_words = 10000  \n",
    "max_seq_length = 100  "
   ]
  },
  {
   "cell_type": "code",
   "execution_count": 8,
   "id": "14c50663",
   "metadata": {},
   "outputs": [],
   "source": [
    "tokenizer = Tokenizer(num_words=max_words)\n",
    "tokenizer.fit_on_texts(X_train)"
   ]
  },
  {
   "cell_type": "code",
   "execution_count": 9,
   "id": "a581016d",
   "metadata": {},
   "outputs": [],
   "source": [
    "X_train_seq = tokenizer.texts_to_sequences(X_train)\n",
    "X_val_seq = tokenizer.texts_to_sequences(X_val)\n",
    "X_test_seq = tokenizer.texts_to_sequences(X_test)"
   ]
  },
  {
   "cell_type": "code",
   "execution_count": 10,
   "id": "2cecd199",
   "metadata": {},
   "outputs": [],
   "source": [
    "X_train_pad = pad_sequences(X_train_seq, maxlen=max_seq_length, padding='post')\n",
    "X_val_pad = pad_sequences(X_val_seq, maxlen=max_seq_length, padding='post')\n",
    "X_test_pad = pad_sequences(X_test_seq, maxlen=max_seq_length, padding='post')"
   ]
  },
  {
   "cell_type": "code",
   "execution_count": 11,
   "id": "caf98cad",
   "metadata": {},
   "outputs": [],
   "source": [
    "import tensorflow as tf\n",
    "from tensorflow.keras.models import Sequential\n",
    "from tensorflow.keras.layers import Embedding, Conv1D, GlobalMaxPooling1D, LSTM, Dense"
   ]
  },
  {
   "cell_type": "code",
   "execution_count": 12,
   "id": "2f7c1dfd",
   "metadata": {},
   "outputs": [],
   "source": [
    "embedding_dim = 100  \n",
    "num_classes = len(label_encoder.classes_)"
   ]
  },
  {
   "cell_type": "code",
   "execution_count": 13,
   "id": "03680426",
   "metadata": {},
   "outputs": [],
   "source": [
    "from tensorflow.keras.layers import Reshape"
   ]
  },
  {
   "cell_type": "code",
   "execution_count": 14,
   "id": "d381dc63",
   "metadata": {},
   "outputs": [],
   "source": [
    "model = Sequential()\n",
    "model.add(Embedding(input_dim=max_words, output_dim=embedding_dim, input_length=max_seq_length))\n",
    "model.add(Conv1D(filters=128, kernel_size=5, activation='relu'))\n",
    "model.add(GlobalMaxPooling1D())"
   ]
  },
  {
   "cell_type": "code",
   "execution_count": 15,
   "id": "6a70112c",
   "metadata": {},
   "outputs": [],
   "source": [
    "\n",
    "model.add(Reshape((1, 128)))"
   ]
  },
  {
   "cell_type": "code",
   "execution_count": 16,
   "id": "8515d624",
   "metadata": {},
   "outputs": [],
   "source": [
    "model.add(LSTM(128))\n",
    "model.add(Dense(num_classes, activation='softmax'))"
   ]
  },
  {
   "cell_type": "code",
   "execution_count": 17,
   "id": "d1dc0189",
   "metadata": {},
   "outputs": [],
   "source": [
    "model.compile(optimizer='adam',\n",
    "              loss='sparse_categorical_crossentropy',\n",
    "              metrics=['accuracy'])"
   ]
  },
  {
   "cell_type": "code",
   "execution_count": 18,
   "id": "f7b4c12b",
   "metadata": {},
   "outputs": [
    {
     "name": "stdout",
     "output_type": "stream",
     "text": [
      "Epoch 1/10\n",
      "2454/2454 [==============================] - 189s 75ms/step - loss: 2.1624 - accuracy: 0.4433 - val_loss: 1.7140 - val_accuracy: 0.5374\n",
      "Epoch 2/10\n",
      "2454/2454 [==============================] - 211s 86ms/step - loss: 1.5276 - accuracy: 0.5796 - val_loss: 1.5889 - val_accuracy: 0.5633\n",
      "Epoch 3/10\n",
      "2454/2454 [==============================] - 182s 74ms/step - loss: 1.2639 - accuracy: 0.6396 - val_loss: 1.6115 - val_accuracy: 0.5581\n",
      "Epoch 4/10\n",
      "2454/2454 [==============================] - 184s 75ms/step - loss: 1.0260 - accuracy: 0.7037 - val_loss: 1.7176 - val_accuracy: 0.5556\n",
      "Epoch 5/10\n",
      "2454/2454 [==============================] - 194s 79ms/step - loss: 0.8064 - accuracy: 0.7673 - val_loss: 1.9045 - val_accuracy: 0.5415\n",
      "Epoch 6/10\n",
      "2454/2454 [==============================] - 185s 75ms/step - loss: 0.6243 - accuracy: 0.8204 - val_loss: 2.1590 - val_accuracy: 0.5257\n",
      "Epoch 7/10\n",
      "2454/2454 [==============================] - 188s 77ms/step - loss: 0.4878 - accuracy: 0.8611 - val_loss: 2.4475 - val_accuracy: 0.5152\n",
      "Epoch 8/10\n",
      "2454/2454 [==============================] - 204s 83ms/step - loss: 0.3911 - accuracy: 0.8880 - val_loss: 2.7289 - val_accuracy: 0.5064\n",
      "Epoch 9/10\n",
      "2454/2454 [==============================] - 233s 95ms/step - loss: 0.3200 - accuracy: 0.9089 - val_loss: 3.0336 - val_accuracy: 0.5038\n",
      "Epoch 10/10\n",
      "2454/2454 [==============================] - 192s 78ms/step - loss: 0.2719 - accuracy: 0.9220 - val_loss: 3.2745 - val_accuracy: 0.5021\n"
     ]
    }
   ],
   "source": [
    "batch_size = 64  \n",
    "epochs = 10  \n",
    "\n",
    "history = model.fit(X_train_pad, y_train, validation_data=(X_val_pad, y_val), epochs=epochs, batch_size=batch_size)\n"
   ]
  },
  {
   "cell_type": "code",
   "execution_count": 19,
   "id": "2e81ec9e",
   "metadata": {},
   "outputs": [],
   "source": [
    "from sklearn.metrics import accuracy_score, precision_score, recall_score, f1_score"
   ]
  },
  {
   "cell_type": "code",
   "execution_count": 20,
   "id": "e1157fb1",
   "metadata": {},
   "outputs": [
    {
     "name": "stdout",
     "output_type": "stream",
     "text": [
      "982/982 [==============================] - 11s 10ms/step\n",
      "Accuracy: 0.4992518068069662\n",
      "Precision: 0.4904970360802164\n",
      "Recall: 0.4992518068069662\n",
      "F1 Score: 0.49276402873404207\n"
     ]
    }
   ],
   "source": [
    "y_pred = model.predict(X_test_pad)\n",
    "y_pred_classes = y_pred.argmax(axis=-1)\n",
    "\n",
    "accuracy = accuracy_score(y_test, y_pred_classes)\n",
    "precision = precision_score(y_test, y_pred_classes, average='weighted')\n",
    "recall = recall_score(y_test, y_pred_classes, average='weighted')\n",
    "f1 = f1_score(y_test, y_pred_classes, average='weighted')\n",
    "\n",
    "print(\"Accuracy:\", accuracy)\n",
    "print(\"Precision:\", precision)\n",
    "print(\"Recall:\", recall)\n",
    "print(\"F1 Score:\", f1)"
   ]
  },
  {
   "cell_type": "code",
   "execution_count": null,
   "id": "f300ba94",
   "metadata": {},
   "outputs": [],
   "source": []
  },
  {
   "cell_type": "code",
   "execution_count": null,
   "id": "e2744320",
   "metadata": {},
   "outputs": [],
   "source": []
  },
  {
   "cell_type": "code",
   "execution_count": null,
   "id": "49683653",
   "metadata": {},
   "outputs": [],
   "source": []
  },
  {
   "cell_type": "code",
   "execution_count": null,
   "id": "7ca16202",
   "metadata": {},
   "outputs": [],
   "source": []
  }
 ],
 "metadata": {
  "kernelspec": {
   "display_name": "Python 3 (ipykernel)",
   "language": "python",
   "name": "python3"
  },
  "language_info": {
   "codemirror_mode": {
    "name": "ipython",
    "version": 3
   },
   "file_extension": ".py",
   "mimetype": "text/x-python",
   "name": "python",
   "nbconvert_exporter": "python",
   "pygments_lexer": "ipython3",
   "version": "3.11.4"
  }
 },
 "nbformat": 4,
 "nbformat_minor": 5
}
