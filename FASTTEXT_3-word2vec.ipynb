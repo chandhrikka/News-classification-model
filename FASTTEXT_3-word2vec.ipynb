{
 "cells": [
  {
   "cell_type": "code",
   "execution_count": 1,
   "id": "0cda6fc6",
   "metadata": {},
   "outputs": [],
   "source": [
    "import numpy as np\n",
    "import pandas as pd\n",
    "import numpy as np\n",
    "import matplotlib.pyplot as plt\n",
    "import seaborn as sns\n",
    "import fasttext\n",
    "from sklearn.metrics import accuracy_score, classification_report, confusion_matrix, precision_score, recall_score\n",
    "from gensim.utils import simple_preprocess\n",
    "from gensim.models import Word2Vec\n",
    "from gensim import models"
   ]
  },
  {
   "cell_type": "code",
   "execution_count": 2,
   "id": "ec7d1605",
   "metadata": {},
   "outputs": [],
   "source": [
    "word2vec_model = models.KeyedVectors.load_word2vec_format('/Users/test/Desktop/news_cato/fasttext_folder/GoogleNews-vectors-negative300.bin', binary=True)"
   ]
  },
  {
   "cell_type": "code",
   "execution_count": 4,
   "id": "621da89f",
   "metadata": {},
   "outputs": [],
   "source": [
    "dataset = pd.read_csv('/Users/test/Desktop/news_cato/dataset/trainset/combined_csv.csv')[['headline', 'sector_name']].rename(columns = {'sector_name': 'category'})\n",
    "ds = pd.read_csv('/Users/test/Desktop/news_cato/dataset/economic_times_data_2023-2.csv')[['headline', 'sector_name']].rename(columns = {'sector_name': 'category'})"
   ]
  },
  {
   "cell_type": "code",
   "execution_count": 5,
   "id": "a6b00f59",
   "metadata": {
    "scrolled": true
   },
   "outputs": [
    {
     "data": {
      "text/html": [
       "<div>\n",
       "<style scoped>\n",
       "    .dataframe tbody tr th:only-of-type {\n",
       "        vertical-align: middle;\n",
       "    }\n",
       "\n",
       "    .dataframe tbody tr th {\n",
       "        vertical-align: top;\n",
       "    }\n",
       "\n",
       "    .dataframe thead th {\n",
       "        text-align: right;\n",
       "    }\n",
       "</style>\n",
       "<table border=\"1\" class=\"dataframe\">\n",
       "  <thead>\n",
       "    <tr style=\"text-align: right;\">\n",
       "      <th></th>\n",
       "      <th>headline</th>\n",
       "      <th>category</th>\n",
       "    </tr>\n",
       "  </thead>\n",
       "  <tbody>\n",
       "    <tr>\n",
       "      <th>0</th>\n",
       "      <td>Numerology Reading 19 May 2021</td>\n",
       "      <td>OTT, Gaming &amp; Digital Content</td>\n",
       "    </tr>\n",
       "    <tr>\n",
       "      <th>1</th>\n",
       "      <td>Hyundai Venue N Line Launch Date: 2022 Hyundai...</td>\n",
       "      <td>Auto &amp; Ancillary</td>\n",
       "    </tr>\n",
       "    <tr>\n",
       "      <th>2</th>\n",
       "      <td>2022 Hyundai Venue Vs Nexon Vs XUV300 Vs Magni...</td>\n",
       "      <td>Auto &amp; Ancillary</td>\n",
       "    </tr>\n",
       "    <tr>\n",
       "      <th>3</th>\n",
       "      <td>2022 Kia Sportage SUV breaks cover with safety...</td>\n",
       "      <td>Auto &amp; Ancillary</td>\n",
       "    </tr>\n",
       "    <tr>\n",
       "      <th>4</th>\n",
       "      <td>2022 Kia Telluride gets safety, comfort updates</td>\n",
       "      <td>Auto &amp; Ancillary</td>\n",
       "    </tr>\n",
       "    <tr>\n",
       "      <th>...</th>\n",
       "      <td>...</td>\n",
       "      <td>...</td>\n",
       "    </tr>\n",
       "    <tr>\n",
       "      <th>68265</th>\n",
       "      <td>Meta acquires 3D smart glass maker Luxexcel, T...</td>\n",
       "      <td>Communications</td>\n",
       "    </tr>\n",
       "    <tr>\n",
       "      <th>68266</th>\n",
       "      <td>Vodafone Idea rolls out new data add-on plans ...</td>\n",
       "      <td>Communications</td>\n",
       "    </tr>\n",
       "    <tr>\n",
       "      <th>68267</th>\n",
       "      <td>Google to pay Indiana $20 million to resolve p...</td>\n",
       "      <td>Communications</td>\n",
       "    </tr>\n",
       "    <tr>\n",
       "      <th>68268</th>\n",
       "      <td>India may review stance on Chinese investments...</td>\n",
       "      <td>Communications</td>\n",
       "    </tr>\n",
       "    <tr>\n",
       "      <th>68269</th>\n",
       "      <td>First pre-trial hearing in Microsoft-Activisio...</td>\n",
       "      <td>Communications</td>\n",
       "    </tr>\n",
       "  </tbody>\n",
       "</table>\n",
       "<p>68270 rows × 2 columns</p>\n",
       "</div>"
      ],
      "text/plain": [
       "                                                headline  \\\n",
       "0                         Numerology Reading 19 May 2021   \n",
       "1      Hyundai Venue N Line Launch Date: 2022 Hyundai...   \n",
       "2      2022 Hyundai Venue Vs Nexon Vs XUV300 Vs Magni...   \n",
       "3      2022 Kia Sportage SUV breaks cover with safety...   \n",
       "4        2022 Kia Telluride gets safety, comfort updates   \n",
       "...                                                  ...   \n",
       "68265  Meta acquires 3D smart glass maker Luxexcel, T...   \n",
       "68266  Vodafone Idea rolls out new data add-on plans ...   \n",
       "68267  Google to pay Indiana $20 million to resolve p...   \n",
       "68268  India may review stance on Chinese investments...   \n",
       "68269  First pre-trial hearing in Microsoft-Activisio...   \n",
       "\n",
       "                            category  \n",
       "0      OTT, Gaming & Digital Content  \n",
       "1                   Auto & Ancillary  \n",
       "2                   Auto & Ancillary  \n",
       "3                   Auto & Ancillary  \n",
       "4                   Auto & Ancillary  \n",
       "...                              ...  \n",
       "68265                 Communications  \n",
       "68266                 Communications  \n",
       "68267                 Communications  \n",
       "68268                 Communications  \n",
       "68269                 Communications  \n",
       "\n",
       "[68270 rows x 2 columns]"
      ]
     },
     "execution_count": 5,
     "metadata": {},
     "output_type": "execute_result"
    }
   ],
   "source": [
    "dataset"
   ]
  },
  {
   "cell_type": "code",
   "execution_count": 6,
   "id": "e93b853b",
   "metadata": {},
   "outputs": [
    {
     "data": {
      "text/html": [
       "<div>\n",
       "<style scoped>\n",
       "    .dataframe tbody tr th:only-of-type {\n",
       "        vertical-align: middle;\n",
       "    }\n",
       "\n",
       "    .dataframe tbody tr th {\n",
       "        vertical-align: top;\n",
       "    }\n",
       "\n",
       "    .dataframe thead th {\n",
       "        text-align: right;\n",
       "    }\n",
       "</style>\n",
       "<table border=\"1\" class=\"dataframe\">\n",
       "  <thead>\n",
       "    <tr style=\"text-align: right;\">\n",
       "      <th></th>\n",
       "      <th>headline</th>\n",
       "      <th>category</th>\n",
       "    </tr>\n",
       "  </thead>\n",
       "  <tbody>\n",
       "    <tr>\n",
       "      <th>0</th>\n",
       "      <td>Manish Sisodias CBI custody ends, to be produc...</td>\n",
       "      <td>Liquor &amp; Tobacco</td>\n",
       "    </tr>\n",
       "    <tr>\n",
       "      <th>1</th>\n",
       "      <td>Germany unveils immigration plan to tackle lab...</td>\n",
       "      <td>BFSI</td>\n",
       "    </tr>\n",
       "    <tr>\n",
       "      <th>2</th>\n",
       "      <td>H-1B visa-holders spouses can work in US, says...</td>\n",
       "      <td>BFSI</td>\n",
       "    </tr>\n",
       "    <tr>\n",
       "      <th>3</th>\n",
       "      <td>Arvind Kejriwal asks Delhi LG to pay attention...</td>\n",
       "      <td>E-Commerce &amp; IT</td>\n",
       "    </tr>\n",
       "    <tr>\n",
       "      <th>4</th>\n",
       "      <td>Govt open to investing more in the India Semic...</td>\n",
       "      <td>E-Commerce &amp; IT</td>\n",
       "    </tr>\n",
       "    <tr>\n",
       "      <th>...</th>\n",
       "      <td>...</td>\n",
       "      <td>...</td>\n",
       "    </tr>\n",
       "    <tr>\n",
       "      <th>26395</th>\n",
       "      <td>Bigg Boss OTT Season 2 Finale: Tune in now for...</td>\n",
       "      <td>OTT, Gaming &amp; Digital Content</td>\n",
       "    </tr>\n",
       "    <tr>\n",
       "      <th>26396</th>\n",
       "      <td>Kygo at Gunnersbury Park: Date, duration, kick...</td>\n",
       "      <td>FMCG</td>\n",
       "    </tr>\n",
       "    <tr>\n",
       "      <th>26397</th>\n",
       "      <td>PM Narendra Modis I-Day Speech lays blueprint ...</td>\n",
       "      <td>FMCG</td>\n",
       "    </tr>\n",
       "    <tr>\n",
       "      <th>26398</th>\n",
       "      <td>PM Modi lays foundation for Sant Ravidas templ...</td>\n",
       "      <td>FMCG</td>\n",
       "    </tr>\n",
       "    <tr>\n",
       "      <th>26399</th>\n",
       "      <td>Sikkim to get organic agriculture university, ...</td>\n",
       "      <td>FMCG</td>\n",
       "    </tr>\n",
       "  </tbody>\n",
       "</table>\n",
       "<p>26400 rows × 2 columns</p>\n",
       "</div>"
      ],
      "text/plain": [
       "                                                headline  \\\n",
       "0      Manish Sisodias CBI custody ends, to be produc...   \n",
       "1      Germany unveils immigration plan to tackle lab...   \n",
       "2      H-1B visa-holders spouses can work in US, says...   \n",
       "3      Arvind Kejriwal asks Delhi LG to pay attention...   \n",
       "4      Govt open to investing more in the India Semic...   \n",
       "...                                                  ...   \n",
       "26395  Bigg Boss OTT Season 2 Finale: Tune in now for...   \n",
       "26396  Kygo at Gunnersbury Park: Date, duration, kick...   \n",
       "26397  PM Narendra Modis I-Day Speech lays blueprint ...   \n",
       "26398  PM Modi lays foundation for Sant Ravidas templ...   \n",
       "26399  Sikkim to get organic agriculture university, ...   \n",
       "\n",
       "                            category  \n",
       "0                   Liquor & Tobacco  \n",
       "1                               BFSI  \n",
       "2                               BFSI  \n",
       "3                    E-Commerce & IT  \n",
       "4                    E-Commerce & IT  \n",
       "...                              ...  \n",
       "26395  OTT, Gaming & Digital Content  \n",
       "26396                           FMCG  \n",
       "26397                           FMCG  \n",
       "26398                           FMCG  \n",
       "26399                           FMCG  \n",
       "\n",
       "[26400 rows x 2 columns]"
      ]
     },
     "execution_count": 6,
     "metadata": {},
     "output_type": "execute_result"
    }
   ],
   "source": [
    "ds"
   ]
  },
  {
   "cell_type": "code",
   "execution_count": 7,
   "id": "bde297ad",
   "metadata": {},
   "outputs": [
    {
     "data": {
      "text/plain": [
       "(                                             headline  \\\n",
       " 0   Manish Sisodias CBI custody ends, to be produc...   \n",
       " 1   Germany unveils immigration plan to tackle lab...   \n",
       " 2   H-1B visa-holders spouses can work in US, says...   \n",
       " 3   Arvind Kejriwal asks Delhi LG to pay attention...   \n",
       " 4   Govt open to investing more in the India Semic...   \n",
       " 5   Thieves hide Rs 15-crore stolen rare diamond i...   \n",
       " 6   Indices: Stock market update: Nifty Auto index...   \n",
       " 7   Nykaa shares can rally up to 46% as buy calls ...   \n",
       " 8   Boris Johnson quits as UK lawmaker after being...   \n",
       " 9   Expanding bilateral space sector cooperation h...   \n",
       " 10  For investors with higher risk appetite: 5 lar...   \n",
       " 11  Boris Johnson deliberately misled parliament, ...   \n",
       " 12  Google Chrome will stop working on Windows PC ...   \n",
       " 13  View: India needs to focus on tracks before tr...   \n",
       " 14  Google will soon allow users to control Spotif...   \n",
       " 15  Kraven the Hunter trailer, first look, release...   \n",
       " 16  Google challenges CCIs Android antitrust rulin...   \n",
       " 17  Boris Johnson quits as UK lawmaker over Partyg...   \n",
       " 18  Prism Johnson stocks: Buy Prism Johnson, targe...   \n",
       " 19  Amazon to integrate services with ONDC; cricke...   \n",
       " \n",
       "                          category  \n",
       " 0                Liquor & Tobacco  \n",
       " 1                            BFSI  \n",
       " 2                            BFSI  \n",
       " 3                 E-Commerce & IT  \n",
       " 4                 E-Commerce & IT  \n",
       " 5                Liquor & Tobacco  \n",
       " 6                Auto & Ancillary  \n",
       " 7                 E-Commerce & IT  \n",
       " 8                            FMCG  \n",
       " 9                            FMCG  \n",
       " 10                E-Commerce & IT  \n",
       " 11                           FMCG  \n",
       " 12                E-Commerce & IT  \n",
       " 13                           FMCG  \n",
       " 14                E-Commerce & IT  \n",
       " 15                           FMCG  \n",
       " 16                E-Commerce & IT  \n",
       " 17                           FMCG  \n",
       " 18                           FMCG  \n",
       " 19  OTT, Gaming & Digital Content  ,\n",
       "                                                 headline  \\\n",
       " 26380  New York Fashion Week: Sergio Hudson, Ralph La...   \n",
       " 26381  Number of smallcap double-digit gainers halves...   \n",
       " 26382  Deliveroo upgrades earnings guidance despite d...   \n",
       " 26383  Stock Market Sectors: Stock market update: FMC...   \n",
       " 26384  BPCL, Gujarat State Petronet, 6 other stocks s...   \n",
       " 26385  Stock Market Sectors: Stock market update: FMC...   \n",
       " 26386  FMCG company and paint stock get ready to rise...   \n",
       " 26387  Apple iPhone 15 Pro to come with 6GB RAM, migh...   \n",
       " 26388  Maui wildfires: Apples Emergency SOS via satel...   \n",
       " 26389  Stock Market Sectors: Stock market update: FMC...   \n",
       " 26390  Remember Food Pharmer of Bournvita controversy...   \n",
       " 26391  Stock Market Sectors: Stock market update: FMC...   \n",
       " 26392  Over 600 SIMs on one Aadhaar: Here is how to f...   \n",
       " 26393  Stock Market Sectors: Stock market update: FMC...   \n",
       " 26394  JioCinema garners over 100 million viewers fro...   \n",
       " 26395  Bigg Boss OTT Season 2 Finale: Tune in now for...   \n",
       " 26396  Kygo at Gunnersbury Park: Date, duration, kick...   \n",
       " 26397  PM Narendra Modis I-Day Speech lays blueprint ...   \n",
       " 26398  PM Modi lays foundation for Sant Ravidas templ...   \n",
       " 26399  Sikkim to get organic agriculture university, ...   \n",
       " \n",
       "                             category  \n",
       " 26380            Fashion & Lifestyle  \n",
       " 26381                           BFSI  \n",
       " 26382                        Ed-Tech  \n",
       " 26383                           FMCG  \n",
       " 26384            Fashion & Lifestyle  \n",
       " 26385                           FMCG  \n",
       " 26386                           FMCG  \n",
       " 26387                       Handsets  \n",
       " 26388                       Handsets  \n",
       " 26389                           FMCG  \n",
       " 26390                           FMCG  \n",
       " 26391                           FMCG  \n",
       " 26392                       Handsets  \n",
       " 26393                           FMCG  \n",
       " 26394  OTT, Gaming & Digital Content  \n",
       " 26395  OTT, Gaming & Digital Content  \n",
       " 26396                           FMCG  \n",
       " 26397                           FMCG  \n",
       " 26398                           FMCG  \n",
       " 26399                           FMCG  )"
      ]
     },
     "execution_count": 7,
     "metadata": {},
     "output_type": "execute_result"
    }
   ],
   "source": [
    "ds.head(20), ds.tail(20)"
   ]
  },
  {
   "cell_type": "code",
   "execution_count": 8,
   "id": "331e5dd5",
   "metadata": {},
   "outputs": [
    {
     "data": {
      "text/plain": [
       "headline    84\n",
       "category     0\n",
       "dtype: int64"
      ]
     },
     "execution_count": 8,
     "metadata": {},
     "output_type": "execute_result"
    }
   ],
   "source": [
    "dataset.isnull().sum()"
   ]
  },
  {
   "cell_type": "code",
   "execution_count": 9,
   "id": "975e0bd7",
   "metadata": {},
   "outputs": [
    {
     "data": {
      "text/plain": [
       "headline    0\n",
       "category    0\n",
       "dtype: int64"
      ]
     },
     "execution_count": 9,
     "metadata": {},
     "output_type": "execute_result"
    }
   ],
   "source": [
    "ds.isnull().sum()"
   ]
  },
  {
   "cell_type": "code",
   "execution_count": 10,
   "id": "2b3645e3",
   "metadata": {},
   "outputs": [],
   "source": [
    "dataset.dropna(inplace = True)"
   ]
  },
  {
   "cell_type": "code",
   "execution_count": 11,
   "id": "08066c09",
   "metadata": {},
   "outputs": [],
   "source": [
    "ds.dropna(inplace = True)"
   ]
  },
  {
   "cell_type": "code",
   "execution_count": 12,
   "id": "ecbcf335",
   "metadata": {},
   "outputs": [
    {
     "data": {
      "text/plain": [
       "FMCG                             12892\n",
       "Health & Wellness                 8743\n",
       "Auto & Ancillary                  6447\n",
       "E-Commerce & IT                   6348\n",
       "Handsets                          5570\n",
       "BFSI                              5330\n",
       "Communications                    5042\n",
       "OTT, Gaming & Digital Content     3840\n",
       "Retail                            2862\n",
       "Construction & Real Estate        2025\n",
       "Fashion & Lifestyle               1709\n",
       "Liquor & Tobacco                  1500\n",
       "Internet based service            1459\n",
       "Consumer Electronics              1197\n",
       "Ed-Tech                           1150\n",
       "E-health                          1075\n",
       "Media & Entertainment              997\n",
       "Name: category, dtype: int64"
      ]
     },
     "execution_count": 12,
     "metadata": {},
     "output_type": "execute_result"
    }
   ],
   "source": [
    "dataset.category.value_counts()"
   ]
  },
  {
   "cell_type": "code",
   "execution_count": 13,
   "id": "664c0a02",
   "metadata": {},
   "outputs": [
    {
     "data": {
      "text/plain": [
       "array(['OTT,_Gaming_&_Digital_Content', 'Auto_&_Ancillary', 'FMCG',\n",
       "       'E-health', 'Internet_based_service', 'Retail',\n",
       "       'Consumer_Electronics', 'Ed-Tech', 'Liquor_&_Tobacco',\n",
       "       'Fashion_&_Lifestyle', 'Handsets', 'E-Commerce_&_IT',\n",
       "       'Construction_&_Real_Estate', 'BFSI', 'Health_&_Wellness',\n",
       "       'Communications', 'Media_&_Entertainment'], dtype=object)"
      ]
     },
     "execution_count": 13,
     "metadata": {},
     "output_type": "execute_result"
    }
   ],
   "source": [
    "dataset.category.replace(\"Health & Wellness\", \"Health_&_Wellness\", inplace=True)\n",
    "dataset.category.replace(\"Auto & Ancillary\", \"Auto_&_Ancillary\", inplace=True)\n",
    "dataset.category.replace(\"E-Commerce & IT\", \"E-Commerce_&_IT\", inplace=True)\n",
    "dataset.category.replace(\"OTT, Gaming & Digital Content\", \"OTT,_Gaming_&_Digital_Content\", inplace=True)\n",
    "dataset.category.replace(\"Fashion & Lifestyle\", \"Fashion_&_Lifestyle\", inplace=True)\n",
    "dataset.category.replace(\"Construction & Real Estate\", \"Construction_&_Real_Estate\", inplace=True)\n",
    "dataset.category.replace(\"Media & Entertainment\", \"Media_&_Entertainment\", inplace=True)\n",
    "dataset.category.replace(\"Liquor & Tobacco\", \"Liquor_&_Tobacco\", inplace=True)\n",
    "dataset.category.replace(\"Consumer Electronics\", \"Consumer_Electronics\", inplace=True)\n",
    "dataset.category.replace(\"Internet based service\", \"Internet_based_service\", inplace=True)\n",
    "\n",
    "dataset.category.unique()"
   ]
  },
  {
   "cell_type": "code",
   "execution_count": 14,
   "id": "316283db",
   "metadata": {},
   "outputs": [
    {
     "data": {
      "text/plain": [
       "Health & Wellness                5081\n",
       "Auto & Ancillary                 3438\n",
       "Communications                   3333\n",
       "BFSI                             3299\n",
       "E-Commerce & IT                  2562\n",
       "FMCG                             2507\n",
       "Retail                           1497\n",
       "Handsets                         1212\n",
       "OTT, Gaming & Digital Content    1084\n",
       "Fashion & Lifestyle               453\n",
       "Construction & Real Estate        436\n",
       "Media & Entertainment             340\n",
       "Liquor & Tobacco                  256\n",
       "Consumer Electronics              254\n",
       "E-health                          230\n",
       "Internet based service            224\n",
       "Ed-Tech                           194\n",
       "Name: category, dtype: int64"
      ]
     },
     "execution_count": 14,
     "metadata": {},
     "output_type": "execute_result"
    }
   ],
   "source": [
    "ds.category.value_counts()"
   ]
  },
  {
   "cell_type": "code",
   "execution_count": 15,
   "id": "a2a19c1d",
   "metadata": {},
   "outputs": [
    {
     "data": {
      "text/plain": [
       "array(['Liquor_&_Tobacco', 'BFSI', 'E-Commerce_&_IT', 'Auto_&_Ancillary',\n",
       "       'FMCG', 'OTT,_Gaming_&_Digital_Content', 'Health_&_Wellness',\n",
       "       'Communications', 'Internet_based_service', 'Fashion_&_Lifestyle',\n",
       "       'Handsets', 'Retail', 'Consumer_Electronics',\n",
       "       'Construction_&_Real_Estate', 'E-health', 'Media_&_Entertainment',\n",
       "       'Ed-Tech'], dtype=object)"
      ]
     },
     "execution_count": 15,
     "metadata": {},
     "output_type": "execute_result"
    }
   ],
   "source": [
    "ds.category.replace(\"Health & Wellness\", \"Health_&_Wellness\", inplace=True)\n",
    "ds.category.replace(\"Auto & Ancillary\", \"Auto_&_Ancillary\", inplace=True)\n",
    "ds.category.replace(\"E-Commerce & IT\", \"E-Commerce_&_IT\", inplace=True)\n",
    "ds.category.replace(\"OTT, Gaming & Digital Content\", \"OTT,_Gaming_&_Digital_Content\", inplace=True)\n",
    "ds.category.replace(\"Fashion & Lifestyle\", \"Fashion_&_Lifestyle\", inplace=True)\n",
    "ds.category.replace(\"Construction & Real Estate\", \"Construction_&_Real_Estate\", inplace=True)\n",
    "ds.category.replace(\"Media & Entertainment\", \"Media_&_Entertainment\", inplace=True)\n",
    "ds.category.replace(\"Liquor & Tobacco\", \"Liquor_&_Tobacco\", inplace=True)\n",
    "ds.category.replace(\"Consumer Electronics\", \"Consumer_Electronics\", inplace=True)\n",
    "ds.category.replace(\"Internet based service\", \"Internet_based_service\", inplace=True)\n",
    "\n",
    "ds.category.unique()"
   ]
  },
  {
   "cell_type": "code",
   "execution_count": 16,
   "id": "c0848165",
   "metadata": {},
   "outputs": [
    {
     "data": {
      "text/plain": [
       "<Axes: >"
      ]
     },
     "execution_count": 16,
     "metadata": {},
     "output_type": "execute_result"
    },
    {
     "data": {
      "image/png": "[encoded data removed]",
      "text/plain": [
       "<Figure size 1500x900 with 1 Axes>"
      ]
     },
     "metadata": {},
     "output_type": "display_data"
    }
   ],
   "source": [
    "#training set\n",
    "fig = plt.figure(figsize=(15,9))\n",
    "sns.barplot(x = ds['category'].value_counts().values,y=ds['category'].value_counts().index)"
   ]
  },
  {
   "cell_type": "code",
   "execution_count": 17,
   "id": "1221f086",
   "metadata": {},
   "outputs": [],
   "source": [
    "import nltk\n",
    "from nltk.stem import WordNetLemmatizer\n",
    "from nltk import word_tokenize\n",
    "import re"
   ]
  },
  {
   "cell_type": "code",
   "execution_count": 18,
   "id": "d52e0a5e",
   "metadata": {},
   "outputs": [],
   "source": [
    "#tags\n",
    "def remove_tags(headline):\n",
    "    remove = re.compile(r'')\n",
    "    return re.sub(remove, '', headline)\n",
    "dataset['headline'] = dataset['headline'].apply(remove_tags)\n",
    "ds['headline'] = ds['headline'].apply(remove_tags)"
   ]
  },
  {
   "cell_type": "code",
   "execution_count": 19,
   "id": "ffd56cb5",
   "metadata": {},
   "outputs": [],
   "source": [
    "#special char\n",
    "def special_char(headline):\n",
    "    reviews = ''\n",
    "    for x in headline:\n",
    "        if x.isalnum():\n",
    "            reviews = reviews + x\n",
    "        else:\n",
    "            reviews = reviews + ' '\n",
    "    return reviews\n",
    "dataset['headline'] = dataset['headline'].apply(special_char)\n",
    "ds['headline'] = ds['headline'].apply(special_char)"
   ]
  },
  {
   "cell_type": "code",
   "execution_count": 20,
   "id": "80268605",
   "metadata": {},
   "outputs": [],
   "source": [
    "#lower case\n",
    "def convert_lower(headline):\n",
    "    return headline.lower()\n",
    "dataset['headline'] = dataset['headline'].apply(convert_lower)\n",
    "ds['headline'] = ds['headline'].apply(convert_lower)"
   ]
  },
  {
   "cell_type": "code",
   "execution_count": 21,
   "id": "7e752307",
   "metadata": {},
   "outputs": [],
   "source": [
    "#stopwords\n",
    "import string\n",
    "from nltk.tokenize import word_tokenize\n",
    "from nltk.corpus import stopwords"
   ]
  },
  {
   "cell_type": "code",
   "execution_count": 22,
   "id": "7e059443",
   "metadata": {},
   "outputs": [],
   "source": [
    "#tokens\n",
    "def remove_stopwords(headline):\n",
    "    stop_words = set(stopwords.words('english'))\n",
    "    words = word_tokenize(headline)\n",
    "    return [x for x in words if x not in stop_words]\n",
    "dataset['headline'] = dataset['headline'].apply(remove_stopwords)\n",
    "ds['headline'] = ds['headline'].apply(remove_stopwords)"
   ]
  },
  {
   "cell_type": "code",
   "execution_count": 23,
   "id": "65cc1fda",
   "metadata": {},
   "outputs": [],
   "source": [
    "#lemmatization\n",
    "def lemmatize_word(headline):\n",
    "    wordnet = WordNetLemmatizer()\n",
    "    return \" \".join([wordnet.lemmatize(word) for word in headline])\n",
    "dataset['headline'] = dataset['headline'].apply(lemmatize_word)\n",
    "ds['headline'] = ds['headline'].apply(lemmatize_word)"
   ]
  },
  {
   "cell_type": "code",
   "execution_count": 24,
   "id": "34e64378",
   "metadata": {},
   "outputs": [
    {
     "data": {
      "text/html": [
       "<div>\n",
       "<style scoped>\n",
       "    .dataframe tbody tr th:only-of-type {\n",
       "        vertical-align: middle;\n",
       "    }\n",
       "\n",
       "    .dataframe tbody tr th {\n",
       "        vertical-align: top;\n",
       "    }\n",
       "\n",
       "    .dataframe thead th {\n",
       "        text-align: right;\n",
       "    }\n",
       "</style>\n",
       "<table border=\"1\" class=\"dataframe\">\n",
       "  <thead>\n",
       "    <tr style=\"text-align: right;\">\n",
       "      <th></th>\n",
       "      <th>headline</th>\n",
       "      <th>category</th>\n",
       "    </tr>\n",
       "  </thead>\n",
       "  <tbody>\n",
       "    <tr>\n",
       "      <th>0</th>\n",
       "      <td>numerology reading 19 may 2021</td>\n",
       "      <td>OTT,_Gaming_&amp;_Digital_Content</td>\n",
       "    </tr>\n",
       "    <tr>\n",
       "      <th>1</th>\n",
       "      <td>hyundai venue n line launch date 2022 hyundai ...</td>\n",
       "      <td>Auto_&amp;_Ancillary</td>\n",
       "    </tr>\n",
       "    <tr>\n",
       "      <th>2</th>\n",
       "      <td>2022 hyundai venue v nexon v xuv300 v magnite ...</td>\n",
       "      <td>Auto_&amp;_Ancillary</td>\n",
       "    </tr>\n",
       "    <tr>\n",
       "      <th>3</th>\n",
       "      <td>2022 kia sportage suv break cover safety update</td>\n",
       "      <td>Auto_&amp;_Ancillary</td>\n",
       "    </tr>\n",
       "    <tr>\n",
       "      <th>4</th>\n",
       "      <td>2022 kia telluride get safety comfort update</td>\n",
       "      <td>Auto_&amp;_Ancillary</td>\n",
       "    </tr>\n",
       "    <tr>\n",
       "      <th>...</th>\n",
       "      <td>...</td>\n",
       "      <td>...</td>\n",
       "    </tr>\n",
       "    <tr>\n",
       "      <th>68265</th>\n",
       "      <td>meta acquires 3d smart glass maker luxexcel te...</td>\n",
       "      <td>Communications</td>\n",
       "    </tr>\n",
       "    <tr>\n",
       "      <th>68266</th>\n",
       "      <td>vodafone idea roll new data add plan ad free m...</td>\n",
       "      <td>Communications</td>\n",
       "    </tr>\n",
       "    <tr>\n",
       "      <th>68267</th>\n",
       "      <td>google pay indiana 20 million resolve privacy ...</td>\n",
       "      <td>Communications</td>\n",
       "    </tr>\n",
       "    <tr>\n",
       "      <th>68268</th>\n",
       "      <td>india may review stance chinese investment hel...</td>\n",
       "      <td>Communications</td>\n",
       "    </tr>\n",
       "    <tr>\n",
       "      <th>68269</th>\n",
       "      <td>first pre trial hearing microsoft activision c...</td>\n",
       "      <td>Communications</td>\n",
       "    </tr>\n",
       "  </tbody>\n",
       "</table>\n",
       "<p>68186 rows × 2 columns</p>\n",
       "</div>"
      ],
      "text/plain": [
       "                                                headline  \\\n",
       "0                         numerology reading 19 may 2021   \n",
       "1      hyundai venue n line launch date 2022 hyundai ...   \n",
       "2      2022 hyundai venue v nexon v xuv300 v magnite ...   \n",
       "3        2022 kia sportage suv break cover safety update   \n",
       "4           2022 kia telluride get safety comfort update   \n",
       "...                                                  ...   \n",
       "68265  meta acquires 3d smart glass maker luxexcel te...   \n",
       "68266  vodafone idea roll new data add plan ad free m...   \n",
       "68267  google pay indiana 20 million resolve privacy ...   \n",
       "68268  india may review stance chinese investment hel...   \n",
       "68269  first pre trial hearing microsoft activision c...   \n",
       "\n",
       "                            category  \n",
       "0      OTT,_Gaming_&_Digital_Content  \n",
       "1                   Auto_&_Ancillary  \n",
       "2                   Auto_&_Ancillary  \n",
       "3                   Auto_&_Ancillary  \n",
       "4                   Auto_&_Ancillary  \n",
       "...                              ...  \n",
       "68265                 Communications  \n",
       "68266                 Communications  \n",
       "68267                 Communications  \n",
       "68268                 Communications  \n",
       "68269                 Communications  \n",
       "\n",
       "[68186 rows x 2 columns]"
      ]
     },
     "execution_count": 24,
     "metadata": {},
     "output_type": "execute_result"
    }
   ],
   "source": [
    "dataset"
   ]
  },
  {
   "cell_type": "code",
   "execution_count": 25,
   "id": "352afae3",
   "metadata": {},
   "outputs": [
    {
     "data": {
      "text/plain": [
       "array(['Liquor_&_Tobacco', 'BFSI', 'E-Commerce_&_IT', 'Auto_&_Ancillary',\n",
       "       'FMCG', 'OTT,_Gaming_&_Digital_Content', 'Health_&_Wellness',\n",
       "       'Communications', 'Internet_based_service', 'Fashion_&_Lifestyle',\n",
       "       'Handsets', 'Retail', 'Consumer_Electronics',\n",
       "       'Construction_&_Real_Estate', 'E-health', 'Media_&_Entertainment',\n",
       "       'Ed-Tech'], dtype=object)"
      ]
     },
     "execution_count": 25,
     "metadata": {},
     "output_type": "execute_result"
    }
   ],
   "source": [
    "ds['category'].unique()"
   ]
  },
  {
   "cell_type": "code",
   "execution_count": 26,
   "id": "64df9b7d",
   "metadata": {},
   "outputs": [],
   "source": [
    "dataset.iloc[:, 1] = dataset.iloc[:, 1].apply(lambda x: '__label__' + x)\n",
    "ds.iloc[:, 1] = ds.iloc[:, 1].apply(lambda x: '__label__' + x)"
   ]
  },
  {
   "cell_type": "code",
   "execution_count": 27,
   "id": "a1099314",
   "metadata": {},
   "outputs": [
    {
     "data": {
      "text/html": [
       "<div>\n",
       "<style scoped>\n",
       "    .dataframe tbody tr th:only-of-type {\n",
       "        vertical-align: middle;\n",
       "    }\n",
       "\n",
       "    .dataframe tbody tr th {\n",
       "        vertical-align: top;\n",
       "    }\n",
       "\n",
       "    .dataframe thead th {\n",
       "        text-align: right;\n",
       "    }\n",
       "</style>\n",
       "<table border=\"1\" class=\"dataframe\">\n",
       "  <thead>\n",
       "    <tr style=\"text-align: right;\">\n",
       "      <th></th>\n",
       "      <th>headline</th>\n",
       "      <th>category</th>\n",
       "    </tr>\n",
       "  </thead>\n",
       "  <tbody>\n",
       "    <tr>\n",
       "      <th>0</th>\n",
       "      <td>numerology reading 19 may 2021</td>\n",
       "      <td>__label__OTT,_Gaming_&amp;_Digital_Content</td>\n",
       "    </tr>\n",
       "    <tr>\n",
       "      <th>1</th>\n",
       "      <td>hyundai venue n line launch date 2022 hyundai ...</td>\n",
       "      <td>__label__Auto_&amp;_Ancillary</td>\n",
       "    </tr>\n",
       "    <tr>\n",
       "      <th>2</th>\n",
       "      <td>2022 hyundai venue v nexon v xuv300 v magnite ...</td>\n",
       "      <td>__label__Auto_&amp;_Ancillary</td>\n",
       "    </tr>\n",
       "    <tr>\n",
       "      <th>3</th>\n",
       "      <td>2022 kia sportage suv break cover safety update</td>\n",
       "      <td>__label__Auto_&amp;_Ancillary</td>\n",
       "    </tr>\n",
       "    <tr>\n",
       "      <th>4</th>\n",
       "      <td>2022 kia telluride get safety comfort update</td>\n",
       "      <td>__label__Auto_&amp;_Ancillary</td>\n",
       "    </tr>\n",
       "    <tr>\n",
       "      <th>...</th>\n",
       "      <td>...</td>\n",
       "      <td>...</td>\n",
       "    </tr>\n",
       "    <tr>\n",
       "      <th>68265</th>\n",
       "      <td>meta acquires 3d smart glass maker luxexcel te...</td>\n",
       "      <td>__label__Communications</td>\n",
       "    </tr>\n",
       "    <tr>\n",
       "      <th>68266</th>\n",
       "      <td>vodafone idea roll new data add plan ad free m...</td>\n",
       "      <td>__label__Communications</td>\n",
       "    </tr>\n",
       "    <tr>\n",
       "      <th>68267</th>\n",
       "      <td>google pay indiana 20 million resolve privacy ...</td>\n",
       "      <td>__label__Communications</td>\n",
       "    </tr>\n",
       "    <tr>\n",
       "      <th>68268</th>\n",
       "      <td>india may review stance chinese investment hel...</td>\n",
       "      <td>__label__Communications</td>\n",
       "    </tr>\n",
       "    <tr>\n",
       "      <th>68269</th>\n",
       "      <td>first pre trial hearing microsoft activision c...</td>\n",
       "      <td>__label__Communications</td>\n",
       "    </tr>\n",
       "  </tbody>\n",
       "</table>\n",
       "<p>68186 rows × 2 columns</p>\n",
       "</div>"
      ],
      "text/plain": [
       "                                                headline  \\\n",
       "0                         numerology reading 19 may 2021   \n",
       "1      hyundai venue n line launch date 2022 hyundai ...   \n",
       "2      2022 hyundai venue v nexon v xuv300 v magnite ...   \n",
       "3        2022 kia sportage suv break cover safety update   \n",
       "4           2022 kia telluride get safety comfort update   \n",
       "...                                                  ...   \n",
       "68265  meta acquires 3d smart glass maker luxexcel te...   \n",
       "68266  vodafone idea roll new data add plan ad free m...   \n",
       "68267  google pay indiana 20 million resolve privacy ...   \n",
       "68268  india may review stance chinese investment hel...   \n",
       "68269  first pre trial hearing microsoft activision c...   \n",
       "\n",
       "                                     category  \n",
       "0      __label__OTT,_Gaming_&_Digital_Content  \n",
       "1                   __label__Auto_&_Ancillary  \n",
       "2                   __label__Auto_&_Ancillary  \n",
       "3                   __label__Auto_&_Ancillary  \n",
       "4                   __label__Auto_&_Ancillary  \n",
       "...                                       ...  \n",
       "68265                 __label__Communications  \n",
       "68266                 __label__Communications  \n",
       "68267                 __label__Communications  \n",
       "68268                 __label__Communications  \n",
       "68269                 __label__Communications  \n",
       "\n",
       "[68186 rows x 2 columns]"
      ]
     },
     "execution_count": 27,
     "metadata": {},
     "output_type": "execute_result"
    }
   ],
   "source": [
    "dataset"
   ]
  },
  {
   "cell_type": "code",
   "execution_count": 28,
   "id": "293450ba",
   "metadata": {},
   "outputs": [
    {
     "data": {
      "text/html": [
       "<div>\n",
       "<style scoped>\n",
       "    .dataframe tbody tr th:only-of-type {\n",
       "        vertical-align: middle;\n",
       "    }\n",
       "\n",
       "    .dataframe tbody tr th {\n",
       "        vertical-align: top;\n",
       "    }\n",
       "\n",
       "    .dataframe thead th {\n",
       "        text-align: right;\n",
       "    }\n",
       "</style>\n",
       "<table border=\"1\" class=\"dataframe\">\n",
       "  <thead>\n",
       "    <tr style=\"text-align: right;\">\n",
       "      <th></th>\n",
       "      <th>headline</th>\n",
       "      <th>category</th>\n",
       "    </tr>\n",
       "  </thead>\n",
       "  <tbody>\n",
       "    <tr>\n",
       "      <th>0</th>\n",
       "      <td>manish sisodias cbi custody end produced court...</td>\n",
       "      <td>__label__Liquor_&amp;_Tobacco</td>\n",
       "    </tr>\n",
       "    <tr>\n",
       "      <th>1</th>\n",
       "      <td>germany unveils immigration plan tackle labour...</td>\n",
       "      <td>__label__BFSI</td>\n",
       "    </tr>\n",
       "    <tr>\n",
       "      <th>2</th>\n",
       "      <td>h 1b visa holder spouse work u say judge</td>\n",
       "      <td>__label__BFSI</td>\n",
       "    </tr>\n",
       "    <tr>\n",
       "      <th>3</th>\n",
       "      <td>arvind kejriwal asks delhi lg pay attention im...</td>\n",
       "      <td>__label__E-Commerce_&amp;_IT</td>\n",
       "    </tr>\n",
       "    <tr>\n",
       "      <th>4</th>\n",
       "      <td>govt open investing india semiconductor missio...</td>\n",
       "      <td>__label__E-Commerce_&amp;_IT</td>\n",
       "    </tr>\n",
       "    <tr>\n",
       "      <th>5</th>\n",
       "      <td>thief hide r 15 crore stolen rare diamond elec...</td>\n",
       "      <td>__label__Liquor_&amp;_Tobacco</td>\n",
       "    </tr>\n",
       "    <tr>\n",
       "      <th>6</th>\n",
       "      <td>index stock market update nifty auto index fal...</td>\n",
       "      <td>__label__Auto_&amp;_Ancillary</td>\n",
       "    </tr>\n",
       "    <tr>\n",
       "      <th>7</th>\n",
       "      <td>nykaa share rally 46 buy call get louder</td>\n",
       "      <td>__label__E-Commerce_&amp;_IT</td>\n",
       "    </tr>\n",
       "    <tr>\n",
       "      <th>8</th>\n",
       "      <td>boris johnson quits uk lawmaker told sanctione...</td>\n",
       "      <td>__label__FMCG</td>\n",
       "    </tr>\n",
       "    <tr>\n",
       "      <th>9</th>\n",
       "      <td>expanding bilateral space sector cooperation h...</td>\n",
       "      <td>__label__FMCG</td>\n",
       "    </tr>\n",
       "    <tr>\n",
       "      <th>10</th>\n",
       "      <td>investor higher risk appetite 5 largecap stock...</td>\n",
       "      <td>__label__E-Commerce_&amp;_IT</td>\n",
       "    </tr>\n",
       "    <tr>\n",
       "      <th>11</th>\n",
       "      <td>boris johnson deliberately misled parliament s...</td>\n",
       "      <td>__label__FMCG</td>\n",
       "    </tr>\n",
       "    <tr>\n",
       "      <th>12</th>\n",
       "      <td>google chrome stop working window pc next week...</td>\n",
       "      <td>__label__E-Commerce_&amp;_IT</td>\n",
       "    </tr>\n",
       "    <tr>\n",
       "      <th>13</th>\n",
       "      <td>view india need focus track train</td>\n",
       "      <td>__label__FMCG</td>\n",
       "    </tr>\n",
       "    <tr>\n",
       "      <th>14</th>\n",
       "      <td>google soon allow user control spotify youtube...</td>\n",
       "      <td>__label__E-Commerce_&amp;_IT</td>\n",
       "    </tr>\n",
       "    <tr>\n",
       "      <th>15</th>\n",
       "      <td>kraven hunter trailer first look release date ...</td>\n",
       "      <td>__label__FMCG</td>\n",
       "    </tr>\n",
       "    <tr>\n",
       "      <th>16</th>\n",
       "      <td>google challenge ccis android antitrust ruling...</td>\n",
       "      <td>__label__E-Commerce_&amp;_IT</td>\n",
       "    </tr>\n",
       "    <tr>\n",
       "      <th>17</th>\n",
       "      <td>boris johnson quits uk lawmaker partygate repo...</td>\n",
       "      <td>__label__FMCG</td>\n",
       "    </tr>\n",
       "    <tr>\n",
       "      <th>18</th>\n",
       "      <td>prism johnson stock buy prism johnson target p...</td>\n",
       "      <td>__label__FMCG</td>\n",
       "    </tr>\n",
       "    <tr>\n",
       "      <th>19</th>\n",
       "      <td>amazon integrate service ondc cricketer deepak...</td>\n",
       "      <td>__label__OTT,_Gaming_&amp;_Digital_Content</td>\n",
       "    </tr>\n",
       "    <tr>\n",
       "      <th>20</th>\n",
       "      <td>uk pm rishi sunak face new electoral headache ...</td>\n",
       "      <td>__label__FMCG</td>\n",
       "    </tr>\n",
       "    <tr>\n",
       "      <th>21</th>\n",
       "      <td>bird flu kerala preventive measure need taken ...</td>\n",
       "      <td>__label__Health_&amp;_Wellness</td>\n",
       "    </tr>\n",
       "    <tr>\n",
       "      <th>22</th>\n",
       "      <td>voltup deploy half million high speed electric...</td>\n",
       "      <td>__label__FMCG</td>\n",
       "    </tr>\n",
       "    <tr>\n",
       "      <th>23</th>\n",
       "      <td>2023 best year go u study</td>\n",
       "      <td>__label__BFSI</td>\n",
       "    </tr>\n",
       "    <tr>\n",
       "      <th>24</th>\n",
       "      <td>hitachi losing cooling effect among top 3 brand</td>\n",
       "      <td>__label__FMCG</td>\n",
       "    </tr>\n",
       "    <tr>\n",
       "      <th>25</th>\n",
       "      <td>identity diaspora derived closely connected ro...</td>\n",
       "      <td>__label__FMCG</td>\n",
       "    </tr>\n",
       "    <tr>\n",
       "      <th>26</th>\n",
       "      <td>germany issue emergency visa turkish syrian ea...</td>\n",
       "      <td>__label__BFSI</td>\n",
       "    </tr>\n",
       "    <tr>\n",
       "      <th>27</th>\n",
       "      <td>migrant seeking u sponsor find questionable of...</td>\n",
       "      <td>__label__BFSI</td>\n",
       "    </tr>\n",
       "    <tr>\n",
       "      <th>28</th>\n",
       "      <td>uk ex pm boris johnson face new covid law brea...</td>\n",
       "      <td>__label__FMCG</td>\n",
       "    </tr>\n",
       "    <tr>\n",
       "      <th>29</th>\n",
       "      <td>glance surpasses 30 million user indonesia lau...</td>\n",
       "      <td>__label__OTT,_Gaming_&amp;_Digital_Content</td>\n",
       "    </tr>\n",
       "    <tr>\n",
       "      <th>30</th>\n",
       "      <td>uk mp endorse report boris johnson partygate</td>\n",
       "      <td>__label__FMCG</td>\n",
       "    </tr>\n",
       "    <tr>\n",
       "      <th>31</th>\n",
       "      <td>china e commerce extravaganza loses shine cons...</td>\n",
       "      <td>__label__E-Commerce_&amp;_IT</td>\n",
       "    </tr>\n",
       "    <tr>\n",
       "      <th>32</th>\n",
       "      <td>boris johnson bombshell exit parliament leaf u...</td>\n",
       "      <td>__label__FMCG</td>\n",
       "    </tr>\n",
       "    <tr>\n",
       "      <th>33</th>\n",
       "      <td>twenty three 2023 23 boat must rise year india...</td>\n",
       "      <td>__label__OTT,_Gaming_&amp;_Digital_Content</td>\n",
       "    </tr>\n",
       "    <tr>\n",
       "      <th>34</th>\n",
       "      <td>delhivery easy trip planner among top 10 nifty...</td>\n",
       "      <td>__label__E-Commerce_&amp;_IT</td>\n",
       "    </tr>\n",
       "    <tr>\n",
       "      <th>35</th>\n",
       "      <td>maharashtra see 63 spike covid case active tal...</td>\n",
       "      <td>__label__Health_&amp;_Wellness</td>\n",
       "    </tr>\n",
       "    <tr>\n",
       "      <th>36</th>\n",
       "      <td>brisk walk least 11 minute day significantly l...</td>\n",
       "      <td>__label__Health_&amp;_Wellness</td>\n",
       "    </tr>\n",
       "    <tr>\n",
       "      <th>37</th>\n",
       "      <td>largecaps strong buy buy recos upside potentia...</td>\n",
       "      <td>__label__E-Commerce_&amp;_IT</td>\n",
       "    </tr>\n",
       "    <tr>\n",
       "      <th>38</th>\n",
       "      <td>paytm lead 6 billion rally new age tech stock ...</td>\n",
       "      <td>__label__E-Commerce_&amp;_IT</td>\n",
       "    </tr>\n",
       "    <tr>\n",
       "      <th>39</th>\n",
       "      <td>paytm hal among 9 company sky high rsi level</td>\n",
       "      <td>__label__Communications</td>\n",
       "    </tr>\n",
       "    <tr>\n",
       "      <th>40</th>\n",
       "      <td>sensex nifty fall 2nd day recession fear selli...</td>\n",
       "      <td>__label__BFSI</td>\n",
       "    </tr>\n",
       "    <tr>\n",
       "      <th>41</th>\n",
       "      <td>weekly top pick stock scored 10 10 stock repor...</td>\n",
       "      <td>__label__BFSI</td>\n",
       "    </tr>\n",
       "    <tr>\n",
       "      <th>42</th>\n",
       "      <td>active covid case india decline 2 670 union he...</td>\n",
       "      <td>__label__Health_&amp;_Wellness</td>\n",
       "    </tr>\n",
       "    <tr>\n",
       "      <th>43</th>\n",
       "      <td>sensex nifty trade lackluster ahead key corpor...</td>\n",
       "      <td>__label__BFSI</td>\n",
       "    </tr>\n",
       "    <tr>\n",
       "      <th>44</th>\n",
       "      <td>chhatriwali release date ott platform watch ra...</td>\n",
       "      <td>__label__OTT,_Gaming_&amp;_Digital_Content</td>\n",
       "    </tr>\n",
       "    <tr>\n",
       "      <th>45</th>\n",
       "      <td>9 55l tb patient adopted centre ni kshay mitra...</td>\n",
       "      <td>__label__Health_&amp;_Wellness</td>\n",
       "    </tr>\n",
       "    <tr>\n",
       "      <th>46</th>\n",
       "      <td>despite india economic growth job meagre pay u...</td>\n",
       "      <td>__label__Internet_based_service</td>\n",
       "    </tr>\n",
       "    <tr>\n",
       "      <th>47</th>\n",
       "      <td>lifestyle change clearing taboo obesity key ad...</td>\n",
       "      <td>__label__Health_&amp;_Wellness</td>\n",
       "    </tr>\n",
       "    <tr>\n",
       "      <th>48</th>\n",
       "      <td>hyundai motor india sale rise 18 2 pc 57 852 u...</td>\n",
       "      <td>__label__Auto_&amp;_Ancillary</td>\n",
       "    </tr>\n",
       "    <tr>\n",
       "      <th>49</th>\n",
       "      <td>cyclone biparjoy 99 train remain cancelled guj...</td>\n",
       "      <td>__label__Fashion_&amp;_Lifestyle</td>\n",
       "    </tr>\n",
       "  </tbody>\n",
       "</table>\n",
       "</div>"
      ],
      "text/plain": [
       "                                             headline  \\\n",
       "0   manish sisodias cbi custody end produced court...   \n",
       "1   germany unveils immigration plan tackle labour...   \n",
       "2            h 1b visa holder spouse work u say judge   \n",
       "3   arvind kejriwal asks delhi lg pay attention im...   \n",
       "4   govt open investing india semiconductor missio...   \n",
       "5   thief hide r 15 crore stolen rare diamond elec...   \n",
       "6   index stock market update nifty auto index fal...   \n",
       "7            nykaa share rally 46 buy call get louder   \n",
       "8   boris johnson quits uk lawmaker told sanctione...   \n",
       "9   expanding bilateral space sector cooperation h...   \n",
       "10  investor higher risk appetite 5 largecap stock...   \n",
       "11  boris johnson deliberately misled parliament s...   \n",
       "12  google chrome stop working window pc next week...   \n",
       "13                  view india need focus track train   \n",
       "14  google soon allow user control spotify youtube...   \n",
       "15  kraven hunter trailer first look release date ...   \n",
       "16  google challenge ccis android antitrust ruling...   \n",
       "17  boris johnson quits uk lawmaker partygate repo...   \n",
       "18  prism johnson stock buy prism johnson target p...   \n",
       "19  amazon integrate service ondc cricketer deepak...   \n",
       "20  uk pm rishi sunak face new electoral headache ...   \n",
       "21  bird flu kerala preventive measure need taken ...   \n",
       "22  voltup deploy half million high speed electric...   \n",
       "23                          2023 best year go u study   \n",
       "24    hitachi losing cooling effect among top 3 brand   \n",
       "25  identity diaspora derived closely connected ro...   \n",
       "26  germany issue emergency visa turkish syrian ea...   \n",
       "27  migrant seeking u sponsor find questionable of...   \n",
       "28  uk ex pm boris johnson face new covid law brea...   \n",
       "29  glance surpasses 30 million user indonesia lau...   \n",
       "30       uk mp endorse report boris johnson partygate   \n",
       "31  china e commerce extravaganza loses shine cons...   \n",
       "32  boris johnson bombshell exit parliament leaf u...   \n",
       "33  twenty three 2023 23 boat must rise year india...   \n",
       "34  delhivery easy trip planner among top 10 nifty...   \n",
       "35  maharashtra see 63 spike covid case active tal...   \n",
       "36  brisk walk least 11 minute day significantly l...   \n",
       "37  largecaps strong buy buy recos upside potentia...   \n",
       "38  paytm lead 6 billion rally new age tech stock ...   \n",
       "39       paytm hal among 9 company sky high rsi level   \n",
       "40  sensex nifty fall 2nd day recession fear selli...   \n",
       "41  weekly top pick stock scored 10 10 stock repor...   \n",
       "42  active covid case india decline 2 670 union he...   \n",
       "43  sensex nifty trade lackluster ahead key corpor...   \n",
       "44  chhatriwali release date ott platform watch ra...   \n",
       "45  9 55l tb patient adopted centre ni kshay mitra...   \n",
       "46  despite india economic growth job meagre pay u...   \n",
       "47  lifestyle change clearing taboo obesity key ad...   \n",
       "48  hyundai motor india sale rise 18 2 pc 57 852 u...   \n",
       "49  cyclone biparjoy 99 train remain cancelled guj...   \n",
       "\n",
       "                                  category  \n",
       "0                __label__Liquor_&_Tobacco  \n",
       "1                            __label__BFSI  \n",
       "2                            __label__BFSI  \n",
       "3                 __label__E-Commerce_&_IT  \n",
       "4                 __label__E-Commerce_&_IT  \n",
       "5                __label__Liquor_&_Tobacco  \n",
       "6                __label__Auto_&_Ancillary  \n",
       "7                 __label__E-Commerce_&_IT  \n",
       "8                            __label__FMCG  \n",
       "9                            __label__FMCG  \n",
       "10                __label__E-Commerce_&_IT  \n",
       "11                           __label__FMCG  \n",
       "12                __label__E-Commerce_&_IT  \n",
       "13                           __label__FMCG  \n",
       "14                __label__E-Commerce_&_IT  \n",
       "15                           __label__FMCG  \n",
       "16                __label__E-Commerce_&_IT  \n",
       "17                           __label__FMCG  \n",
       "18                           __label__FMCG  \n",
       "19  __label__OTT,_Gaming_&_Digital_Content  \n",
       "20                           __label__FMCG  \n",
       "21              __label__Health_&_Wellness  \n",
       "22                           __label__FMCG  \n",
       "23                           __label__BFSI  \n",
       "24                           __label__FMCG  \n",
       "25                           __label__FMCG  \n",
       "26                           __label__BFSI  \n",
       "27                           __label__BFSI  \n",
       "28                           __label__FMCG  \n",
       "29  __label__OTT,_Gaming_&_Digital_Content  \n",
       "30                           __label__FMCG  \n",
       "31                __label__E-Commerce_&_IT  \n",
       "32                           __label__FMCG  \n",
       "33  __label__OTT,_Gaming_&_Digital_Content  \n",
       "34                __label__E-Commerce_&_IT  \n",
       "35              __label__Health_&_Wellness  \n",
       "36              __label__Health_&_Wellness  \n",
       "37                __label__E-Commerce_&_IT  \n",
       "38                __label__E-Commerce_&_IT  \n",
       "39                 __label__Communications  \n",
       "40                           __label__BFSI  \n",
       "41                           __label__BFSI  \n",
       "42              __label__Health_&_Wellness  \n",
       "43                           __label__BFSI  \n",
       "44  __label__OTT,_Gaming_&_Digital_Content  \n",
       "45              __label__Health_&_Wellness  \n",
       "46         __label__Internet_based_service  \n",
       "47              __label__Health_&_Wellness  \n",
       "48               __label__Auto_&_Ancillary  \n",
       "49            __label__Fashion_&_Lifestyle  "
      ]
     },
     "execution_count": 28,
     "metadata": {},
     "output_type": "execute_result"
    }
   ],
   "source": [
    "ds.head(50)"
   ]
  },
  {
   "cell_type": "code",
   "execution_count": 29,
   "id": "179da238",
   "metadata": {},
   "outputs": [
    {
     "name": "stderr",
     "output_type": "stream",
     "text": [
      "/Users/test/anaconda3/lib/python3.11/site-packages/numpy/core/fromnumeric.py:3464: RuntimeWarning: Mean of empty slice.\n",
      "  return _methods._mean(a, axis=axis, dtype=dtype,\n"
     ]
    }
   ],
   "source": [
    "def get_word2vec_embeddings(sentence, model):\n",
    "    words = simple_preprocess(sentence)\n",
    "    embeddings = []\n",
    "    for word in words:\n",
    "        if word in model:\n",
    "            embeddings.append(model[word])\n",
    "    return np.mean(embeddings, axis=0)\n",
    "\n",
    "dataset['word2vec_embeddings'] = dataset['headline'].apply(lambda x: get_word2vec_embeddings(x, word2vec_model))\n",
    "ds['word2vec_embeddings'] = ds['headline'].apply(lambda x: get_word2vec_embeddings(x, word2vec_model))"
   ]
  },
  {
   "cell_type": "code",
   "execution_count": null,
   "id": "b5f39964",
   "metadata": {},
   "outputs": [],
   "source": []
  },
  {
   "cell_type": "code",
   "execution_count": 30,
   "id": "f0e3550c",
   "metadata": {},
   "outputs": [],
   "source": [
    "import csv "
   ]
  },
  {
   "cell_type": "code",
   "execution_count": 31,
   "id": "ae76621d",
   "metadata": {},
   "outputs": [],
   "source": [
    "\n",
    "dataset[['category', 'headline', 'word2vec_embeddings']].to_csv('train3.txt', \n",
    "                                          index = False, \n",
    "                                          sep = '\\t',\n",
    "                                          header = None, \n",
    "                                          quoting = csv.QUOTE_NONE, \n",
    "                                          quotechar = \"\", \n",
    "                                          escapechar = \" \"\n",
    "                                        )\n",
    "\n",
    "ds[['category', 'headline', 'word2vec_embeddings']].to_csv('test3.txt', \n",
    "                                     index = False, \n",
    "                                     sep = '\\t',\n",
    "                                     header = None, \n",
    "                                     quoting = csv.QUOTE_NONE, \n",
    "                                     quotechar = \"\", \n",
    "                                     escapechar = \" \"\n",
    "                                   )"
   ]
  },
  {
   "cell_type": "code",
   "execution_count": 32,
   "id": "54e66147",
   "metadata": {},
   "outputs": [],
   "source": [
    "import fasttext"
   ]
  },
  {
   "cell_type": "code",
   "execution_count": 33,
   "id": "0a42b37e",
   "metadata": {},
   "outputs": [
    {
     "name": "stderr",
     "output_type": "stream",
     "text": [
      "Read 25M words\n",
      "Number of words:  2638096\n",
      "Number of labels: 17\n",
      "Progress: 100.0% words/sec/thread:  437837 lr:  0.000000 avg.loss:  0.164655 ETA:   0h 0m 0s  0.5% words/sec/thread:  165755 lr:  0.795614 avg.loss:  2.357793 ETA:   0h17m 0s  0h11m 9s  0h12m 0s 233156 lr:  0.735072 avg.loss:  0.962154 ETA:   0h11m10s827130 ETA:   0h10m52s87639 ETA:   0h10m52s6223 ETA:   0h10m40sress:  12.3% words/sec/thread:  242371 lr:  0.701931 avg.loss:  0.691111 ETA:   0h10m15s9m43s 9m 6s 20.6% words/sec/thread:  251659 lr:  0.635494 avg.loss:  0.516498 ETA:   0h 8m57s 23.1% words/sec/thread:  253887 lr:  0.615290 avg.loss:  0.465759 ETA:   0h 8m35s 29.8% words/sec/thread:  271969 lr:  0.561511 avg.loss:  0.384793 ETA:   0h 7m19s% words/sec/thread:  272078 lr:  0.560772 avg.loss:  0.383670 ETA:   0h 7m18s avg.loss:  0.368828 ETA:   0h 6m49s 52.8% words/sec/thread:  323848 lr:  0.377742 avg.loss:  0.269416 ETA:   0h 4m 8s 53.2% words/sec/thread:  322796 lr:  0.374800 avg.loss:  0.267785 ETA:   0h 4m 6s 58.6% words/sec/thread:  328802 lr:  0.331247 avg.loss:  0.248232 ETA:   0h 3m34s 90.0% words/sec/thread:  413013 lr:  0.079778 avg.loss:  0.179955 ETA:   0h 0m41s  0h 0m 1s\n"
     ]
    }
   ],
   "source": [
    "model = fasttext.train_supervised('train3.txt', wordNgrams = 3, epoch = 20, lr = 0.8)"
   ]
  },
  {
   "cell_type": "code",
   "execution_count": 34,
   "id": "625203f2",
   "metadata": {},
   "outputs": [],
   "source": [
    "model.save_model(\"news2.bin\")"
   ]
  },
  {
   "cell_type": "code",
   "execution_count": 35,
   "id": "b3fbfbc9",
   "metadata": {},
   "outputs": [
    {
     "data": {
      "text/plain": [
       "(26400, 0.8317424242424243, 0.8317424242424243)"
      ]
     },
     "execution_count": 35,
     "metadata": {},
     "output_type": "execute_result"
    }
   ],
   "source": [
    "model.test('test3.txt') "
   ]
  },
  {
   "cell_type": "code",
   "execution_count": 36,
   "id": "caaac19f",
   "metadata": {},
   "outputs": [
    {
     "name": "stdout",
     "output_type": "stream",
     "text": [
      "Accuracy: 0.83\n"
     ]
    }
   ],
   "source": [
    "result = model.test('test3.txt')\n",
    "\n",
    "precision = result[1]  # Precision\n",
    "recall = result[2]     # Recall\n",
    "accuracy = (precision + recall) / 2 \n",
    "\n",
    "print(f\"Accuracy: {accuracy:.2f}\")"
   ]
  },
  {
   "cell_type": "code",
   "execution_count": 37,
   "id": "cbba21bc",
   "metadata": {},
   "outputs": [
    {
     "data": {
      "text/plain": [
       "(('__label__FMCG',), array([0.99992633]))"
      ]
     },
     "execution_count": 37,
     "metadata": {},
     "output_type": "execute_result"
    }
   ],
   "source": [
    "model.predict(ds.iloc[17, 0])"
   ]
  },
  {
   "cell_type": "code",
   "execution_count": 38,
   "id": "e0068917",
   "metadata": {},
   "outputs": [
    {
     "name": "stdout",
     "output_type": "stream",
     "text": [
      "                               precision    recall  f1-score   support\n",
      "\n",
      "                         FMCG       0.48      0.83      0.61      2507\n",
      "             Liquor_&_Tobacco       0.89      0.48      0.62       256\n",
      "          Fashion_&_Lifestyle       0.79      0.41      0.54       453\n",
      "                      Ed-Tech       0.70      0.56      0.62       194\n",
      "                     E-health       0.67      0.19      0.29       230\n",
      "         Consumer_Electronics       0.72      0.30      0.42       254\n",
      "OTT,_Gaming_&_Digital_Content       0.76      0.60      0.67      1084\n",
      "        Media_&_Entertainment       0.72      0.35      0.47       340\n",
      "            Health_&_Wellness       0.94      0.93      0.93      5081\n",
      "                     Handsets       0.77      0.73      0.75      1212\n",
      "                       Retail       0.94      0.93      0.94      1497\n",
      "   Construction_&_Real_Estate       0.80      0.48      0.60       436\n",
      "       Internet_based_service       0.54      0.31      0.39       224\n",
      "               Communications       0.95      0.93      0.94      3333\n",
      "                         BFSI       0.93      0.87      0.90      3299\n",
      "             Auto_&_Ancillary       0.93      0.90      0.92      3438\n",
      "              E-Commerce_&_IT       0.89      0.89      0.89      2562\n",
      "\n",
      "                     accuracy                           0.83     26400\n",
      "                    macro avg       0.79      0.63      0.68     26400\n",
      "                 weighted avg       0.86      0.83      0.83     26400\n",
      "\n"
     ]
    },
    {
     "data": {
      "image/png": "[encoded data removed]",
      "text/plain": [
       "<Figure size 1000x1000 with 2 Axes>"
      ]
     },
     "metadata": {},
     "output_type": "display_data"
    },
    {
     "name": "stdout",
     "output_type": "stream",
     "text": [
      "Accuracy: 0.8342045454545455\n"
     ]
    }
   ],
   "source": [
    "from sklearn.metrics import classification_report, confusion_matrix\n",
    "import seaborn as sns\n",
    "import matplotlib.pyplot as plt\n",
    "from sklearn.metrics import accuracy_score\n",
    "\n",
    "predictions = model.predict(list(ds['headline']))\n",
    "\n",
    "true_labels = ds['category'].str.replace('__label__', '', regex=False).to_list()\n",
    "\n",
    "predicted_labels = [label[0].replace('__label__', '') for label in predictions[0]]\n",
    "\n",
    "\n",
    "your_category_names = list(set(true_labels))\n",
    "\n",
    "class_mapping = {label: idx for idx, label in enumerate(your_category_names)}\n",
    "\n",
    "true_labels_indices = [class_mapping[label] for label in true_labels]\n",
    "predicted_labels_indices = [class_mapping[label] for label in predicted_labels]\n",
    "\n",
    "report = classification_report(true_labels_indices, predicted_labels_indices, target_names=your_category_names)\n",
    "print(report)\n",
    "\n",
    "conf_mat = confusion_matrix(true_labels_indices, predicted_labels_indices)\n",
    "\n",
    "fig, ax = plt.subplots(figsize=(10, 10))\n",
    "sns.heatmap(conf_mat, annot=True, fmt='d', xticklabels=your_category_names, yticklabels=your_category_names)\n",
    "plt.ylabel('Actual')\n",
    "plt.xlabel('Predicted')\n",
    "plt.show()\n",
    "\n",
    "result2 = accuracy_score(true_labels_indices, predicted_labels_indices)\n",
    "print(\"Accuracy:\", result2)\n"
   ]
  },
  {
   "cell_type": "code",
   "execution_count": 39,
   "id": "3dab2f99",
   "metadata": {},
   "outputs": [
    {
     "data": {
      "text/plain": [
       "0.8342045454545455"
      ]
     },
     "execution_count": 39,
     "metadata": {},
     "output_type": "execute_result"
    }
   ],
   "source": [
    "result2= accuracy_score(true_labels, predicted_labels)\n",
    "result2"
   ]
  },
  {
   "cell_type": "code",
   "execution_count": null,
   "id": "6df8b664",
   "metadata": {},
   "outputs": [],
   "source": []
  }
 ],
 "metadata": {
  "kernelspec": {
   "display_name": "Python 3 (ipykernel)",
   "language": "python",
   "name": "python3"
  },
  "language_info": {
   "codemirror_mode": {
    "name": "ipython",
    "version": 3
   },
   "file_extension": ".py",
   "mimetype": "text/x-python",
   "name": "python",
   "nbconvert_exporter": "python",
   "pygments_lexer": "ipython3",
   "version": "3.11.4"
  }
 },
 "nbformat": 4,
 "nbformat_minor": 5
}
