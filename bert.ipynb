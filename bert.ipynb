{
 "cells": [
  {
   "cell_type": "code",
   "execution_count": 1,
   "id": "c8e09af5",
   "metadata": {},
   "outputs": [
    {
     "name": "stderr",
     "output_type": "stream",
     "text": [
      "2023-10-04 01:09:57.256822: I tensorflow/core/platform/cpu_feature_guard.cc:182] This TensorFlow binary is optimized to use available CPU instructions in performance-critical operations.\n",
      "To enable the following instructions: AVX2 FMA, in other operations, rebuild TensorFlow with the appropriate compiler flags.\n"
     ]
    }
   ],
   "source": [
    "\n",
    "# Data Manipulation/ Handling\n",
    "import pandas as pd, numpy as np\n",
    "\n",
    "# NLP Preprocessing\n",
    "from gensim.utils import simple_preprocess\n",
    "\n",
    "# BERT/Transformer\n",
    "from simpletransformers.classification import ClassificationModel, ClassificationArgs\n",
    "     "
   ]
  },
  {
   "cell_type": "code",
   "execution_count": 2,
   "id": "7915e443",
   "metadata": {},
   "outputs": [
    {
     "data": {
      "text/plain": [
       "(                                                headline  \\\n",
       " 26395  Bigg Boss OTT Season 2 Finale: Tune in now for...   \n",
       " 26396  Kygo at Gunnersbury Park: Date, duration, kick...   \n",
       " 26397  PM Narendra Modis I-Day Speech lays blueprint ...   \n",
       " 26398  PM Modi lays foundation for Sant Ravidas templ...   \n",
       " 26399  Sikkim to get organic agriculture university, ...   \n",
       " \n",
       "                             category  \n",
       " 26395  OTT, Gaming & Digital Content  \n",
       " 26396                           FMCG  \n",
       " 26397                           FMCG  \n",
       " 26398                           FMCG  \n",
       " 26399                           FMCG  ,\n",
       "                                             headline          category\n",
       " 0  2nd-hand car dealers will be 'deemed' owners o...  Auto & Ancillary\n",
       " 1  Altigreen Pune Dealership: Altigreen opens new...  Auto & Ancillary\n",
       " 2  Automotive Aftermarket Suppliers Association: ...  Auto & Ancillary\n",
       " 3  Automobile dealers: Auto companies force unfai...  Auto & Ancillary\n",
       " 4  BYD dealership in Delhi: BYD opens new showroo...  Auto & Ancillary)"
      ]
     },
     "execution_count": 2,
     "metadata": {},
     "output_type": "execute_result"
    }
   ],
   "source": [
    "# Importing the dataset\n",
    "dataset = pd.read_csv('/Users/test/Desktop/news_cato/economic_times_data_2023-2.csv')[['headline', 'sector_name']].rename(columns = {'sector_name': 'category'})\n",
    "ds = pd.read_csv('/Users/test/Desktop/news_cato/economic_times_data_2022.csv')[['headline', 'sector_name']].rename(columns = {'sector_name': 'category'})\n",
    "\n",
    "\n",
    "dataset.tail(5), ds.head(5)"
   ]
  },
  {
   "cell_type": "code",
   "execution_count": 3,
   "id": "96e8ae2a",
   "metadata": {},
   "outputs": [
    {
     "data": {
      "text/plain": [
       "Health & Wellness                5081\n",
       "Auto & Ancillary                 3438\n",
       "Communications                   3333\n",
       "BFSI                             3299\n",
       "E-Commerce & IT                  2562\n",
       "FMCG                             2507\n",
       "Retail                           1497\n",
       "Handsets                         1212\n",
       "OTT, Gaming & Digital Content    1084\n",
       "Fashion & Lifestyle               453\n",
       "Construction & Real Estate        436\n",
       "Media & Entertainment             340\n",
       "Liquor & Tobacco                  256\n",
       "Consumer Electronics              254\n",
       "E-health                          230\n",
       "Internet based service            224\n",
       "Ed-Tech                           194\n",
       "Name: category, dtype: int64"
      ]
     },
     "execution_count": 3,
     "metadata": {},
     "output_type": "execute_result"
    }
   ],
   "source": [
    "dataset.category.value_counts()"
   ]
  },
  {
   "cell_type": "code",
   "execution_count": 4,
   "id": "2075b4bd",
   "metadata": {},
   "outputs": [
    {
     "data": {
      "text/plain": [
       "Health & Wellness                5216\n",
       "Auto & Ancillary                 4121\n",
       "BFSI                             4092\n",
       "Communications                   3127\n",
       "E-Commerce & IT                  2348\n",
       "FMCG                             2174\n",
       "Retail                           1698\n",
       "OTT, Gaming & Digital Content     818\n",
       "Handsets                          813\n",
       "Media & Entertainment             341\n",
       "Fashion & Lifestyle               331\n",
       "Consumer Electronics              289\n",
       "Construction & Real Estate        264\n",
       "Liquor & Tobacco                  261\n",
       "Internet based service            227\n",
       "Ed-Tech                           219\n",
       "E-health                          211\n",
       "Name: category, dtype: int64"
      ]
     },
     "execution_count": 4,
     "metadata": {},
     "output_type": "execute_result"
    }
   ],
   "source": [
    "ds.category.value_counts()"
   ]
  },
  {
   "cell_type": "code",
   "execution_count": 5,
   "id": "9bc3b776",
   "metadata": {},
   "outputs": [
    {
     "data": {
      "text/plain": [
       "headline    0\n",
       "category    0\n",
       "dtype: int64"
      ]
     },
     "execution_count": 5,
     "metadata": {},
     "output_type": "execute_result"
    }
   ],
   "source": [
    "dataset.isnull().sum()"
   ]
  },
  {
   "cell_type": "code",
   "execution_count": 6,
   "id": "5794160b",
   "metadata": {},
   "outputs": [],
   "source": [
    "# NLP preprocessing\n",
    "from gensim.utils import simple_preprocess\n",
    "\n",
    "# NLP Preprocess\n",
    "def preprocess_text(text):\n",
    "    try:\n",
    "        # Check if the text is a valid string, if not, return an empty string\n",
    "        if isinstance(text, str):\n",
    "            return ' '.join(simple_preprocess(text))\n",
    "        else:\n",
    "            return ''\n",
    "    except Exception as e:\n",
    "        print(f\"Error processing text: {e}\")\n",
    "        return ''\n",
    "\n",
    "dataset.iloc[:, 0] = dataset.iloc[:, 0].apply(preprocess_text)\n",
    "ds.iloc[:, 0] = ds.iloc[:, 0].apply(preprocess_text)"
   ]
  },
  {
   "cell_type": "code",
   "execution_count": 7,
   "id": "9d1767d4",
   "metadata": {},
   "outputs": [
    {
     "name": "stdout",
     "output_type": "stream",
     "text": [
      "Encoded categories:\n",
      "                          category  category_encoded\n",
      "0                 Liquor & Tobacco                13\n",
      "1                             BFSI                 1\n",
      "3                  E-Commerce & IT                 5\n",
      "6                 Auto & Ancillary                 0\n",
      "8                             FMCG                 8\n",
      "19   OTT, Gaming & Digital Content                15\n",
      "21               Health & Wellness                11\n",
      "39                  Communications                 2\n",
      "46          Internet based service                12\n",
      "49             Fashion & Lifestyle                 9\n",
      "82                        Handsets                10\n",
      "89                          Retail                16\n",
      "90            Consumer Electronics                 4\n",
      "125     Construction & Real Estate                 3\n",
      "138                       E-health                 6\n",
      "141          Media & Entertainment                14\n",
      "223                        Ed-Tech                 7\n",
      "\n",
      "Label Mapping:\n",
      "{'Auto & Ancillary': 0, 'BFSI': 1, 'Communications': 2, 'Construction & Real Estate': 3, 'Consumer Electronics': 4, 'E-Commerce & IT': 5, 'E-health': 6, 'Ed-Tech': 7, 'FMCG': 8, 'Fashion & Lifestyle': 9, 'Handsets': 10, 'Health & Wellness': 11, 'Internet based service': 12, 'Liquor & Tobacco': 13, 'Media & Entertainment': 14, 'OTT, Gaming & Digital Content': 15, 'Retail': 16}\n"
     ]
    }
   ],
   "source": [
    "from sklearn.preprocessing import LabelEncoder\n",
    "\n",
    "label_encoder = LabelEncoder()\n",
    "\n",
    "dataset['category_encoded'] = label_encoder.fit_transform(dataset['category'])\n",
    "ds['category_encoded'] = label_encoder.transform(ds['category'])\n",
    "\n",
    "print(\"Encoded categories:\")\n",
    "print(dataset[['category', 'category_encoded']].drop_duplicates())\n",
    "\n",
    "label_mapping = dict(zip(label_encoder.classes_, label_encoder.transform(label_encoder.classes_)))\n",
    "print(\"\\nLabel Mapping:\")\n",
    "print(label_mapping)\n"
   ]
  },
  {
   "cell_type": "code",
   "execution_count": 8,
   "id": "1dc924a2",
   "metadata": {},
   "outputs": [
    {
     "name": "stdout",
     "output_type": "stream",
     "text": [
      "['Liquor & Tobacco' 'BFSI' 'E-Commerce & IT' 'Auto & Ancillary' 'FMCG'\n",
      " 'OTT, Gaming & Digital Content' 'Health & Wellness' 'Communications'\n",
      " 'Internet based service' 'Fashion & Lifestyle' 'Handsets' 'Retail'\n",
      " 'Consumer Electronics' 'Construction & Real Estate' 'E-health'\n",
      " 'Media & Entertainment' 'Ed-Tech']\n"
     ]
    }
   ],
   "source": [
    "\n",
    "# unique_encoded_labels = dataset['category'].unique()\n",
    "\n",
    "\n",
    "# print(unique_encoded_labels)\n"
   ]
  },
  {
   "cell_type": "code",
   "execution_count": 9,
   "id": "b1387d4b",
   "metadata": {},
   "outputs": [],
   "source": [
    "import numpy as np\n",
    "import matplotlib.pyplot as plt\n",
    "import seaborn as sns"
   ]
  },
  {
   "cell_type": "code",
   "execution_count": null,
   "id": "df3b1dfa",
   "metadata": {},
   "outputs": [],
   "source": []
  },
  {
   "cell_type": "code",
   "execution_count": 10,
   "id": "3e4d74b2",
   "metadata": {},
   "outputs": [
    {
     "data": {
      "text/plain": [
       "<Axes: >"
      ]
     },
     "execution_count": 10,
     "metadata": {},
     "output_type": "execute_result"
    },
    {
     "data": {
      "image/png": "[encoded data removed]",
      "text/plain": [
       "<Figure size 1500x900 with 1 Axes>"
      ]
     },
     "metadata": {},
     "output_type": "display_data"
    }
   ],
   "source": [
    "#training set\n",
    "fig = plt.figure(figsize=(15,9))\n",
    "sns.barplot(x = dataset['category'].value_counts().values,y=dataset['category'].value_counts().index)"
   ]
  },
  {
   "cell_type": "code",
   "execution_count": 13,
   "id": "6afe3373",
   "metadata": {},
   "outputs": [
    {
     "ename": "ValueError",
     "evalue": "'use_cuda' set to True when cuda is unavailable. Make sure CUDA is available or set use_cuda=False.",
     "output_type": "error",
     "traceback": [
      "\u001b[0;31m---------------------------------------------------------------------------\u001b[0m",
      "\u001b[0;31mValueError\u001b[0m                                Traceback (most recent call last)",
      "Cell \u001b[0;32mIn[13], line 11\u001b[0m\n\u001b[1;32m      8\u001b[0m model_args \u001b[38;5;241m=\u001b[39m ClassificationArgs(num_train_epochs \u001b[38;5;241m=\u001b[39m \u001b[38;5;241m3\u001b[39m, overwrite_output_dir \u001b[38;5;241m=\u001b[39m \u001b[38;5;28;01mTrue\u001b[39;00m)\n\u001b[1;32m     10\u001b[0m \u001b[38;5;66;03m# Training the BERT model for classification\u001b[39;00m\n\u001b[0;32m---> 11\u001b[0m model \u001b[38;5;241m=\u001b[39m ClassificationModel(\u001b[38;5;124m'\u001b[39m\u001b[38;5;124mbert\u001b[39m\u001b[38;5;124m'\u001b[39m, \u001b[38;5;124m'\u001b[39m\u001b[38;5;124mbert-base-cased\u001b[39m\u001b[38;5;124m'\u001b[39m, num_labels \u001b[38;5;241m=\u001b[39m \u001b[38;5;241m3\u001b[39m, args \u001b[38;5;241m=\u001b[39m model_args,\n\u001b[1;32m     12\u001b[0m                             use_cuda \u001b[38;5;241m=\u001b[39m \u001b[38;5;28;01mTrue\u001b[39;00m)\n\u001b[1;32m     14\u001b[0m \u001b[38;5;66;03m# Training the model\u001b[39;00m\n\u001b[1;32m     15\u001b[0m model\u001b[38;5;241m.\u001b[39mtrain_model(dataset)\n",
      "File \u001b[0;32m~/anaconda3/lib/python3.11/site-packages/simpletransformers/classification/classification_model.py:388\u001b[0m, in \u001b[0;36mClassificationModel.__init__\u001b[0;34m(self, model_type, model_name, tokenizer_type, tokenizer_name, num_labels, weight, args, use_cuda, cuda_device, onnx_execution_provider, **kwargs)\u001b[0m\n\u001b[1;32m    386\u001b[0m             \u001b[38;5;28mself\u001b[39m\u001b[38;5;241m.\u001b[39mdevice \u001b[38;5;241m=\u001b[39m torch\u001b[38;5;241m.\u001b[39mdevice(\u001b[38;5;124mf\u001b[39m\u001b[38;5;124m\"\u001b[39m\u001b[38;5;124mcuda:\u001b[39m\u001b[38;5;132;01m{\u001b[39;00mcuda_device\u001b[38;5;132;01m}\u001b[39;00m\u001b[38;5;124m\"\u001b[39m)\n\u001b[1;32m    387\u001b[0m     \u001b[38;5;28;01melse\u001b[39;00m:\n\u001b[0;32m--> 388\u001b[0m         \u001b[38;5;28;01mraise\u001b[39;00m \u001b[38;5;167;01mValueError\u001b[39;00m(\n\u001b[1;32m    389\u001b[0m             \u001b[38;5;124m\"\u001b[39m\u001b[38;5;124m'\u001b[39m\u001b[38;5;124muse_cuda\u001b[39m\u001b[38;5;124m'\u001b[39m\u001b[38;5;124m set to True when cuda is unavailable.\u001b[39m\u001b[38;5;124m\"\u001b[39m\n\u001b[1;32m    390\u001b[0m             \u001b[38;5;124m\"\u001b[39m\u001b[38;5;124m Make sure CUDA is available or set use_cuda=False.\u001b[39m\u001b[38;5;124m\"\u001b[39m\n\u001b[1;32m    391\u001b[0m         )\n\u001b[1;32m    392\u001b[0m \u001b[38;5;28;01melse\u001b[39;00m:\n\u001b[1;32m    393\u001b[0m     \u001b[38;5;28mself\u001b[39m\u001b[38;5;241m.\u001b[39mdevice \u001b[38;5;241m=\u001b[39m \u001b[38;5;124m\"\u001b[39m\u001b[38;5;124mcpu\u001b[39m\u001b[38;5;124m\"\u001b[39m\n",
      "\u001b[0;31mValueError\u001b[0m: 'use_cuda' set to True when cuda is unavailable. Make sure CUDA is available or set use_cuda=False."
     ]
    }
   ],
   "source": [
    "\n",
    "model_args = ClassificationArgs(num_train_epochs = 3, overwrite_output_dir = True)\n",
    "\n",
    "\n",
    "model = ClassificationModel('bert', 'bert-base-cased', num_labels = 3, args = model_args,\n",
    "                            use_cuda = True)\n",
    "\n",
    "\n",
    "model.train_model(dataset)\n"
   ]
  },
  {
   "cell_type": "code",
   "execution_count": null,
   "id": "b893cfb6",
   "metadata": {},
   "outputs": [],
   "source": []
  },
  {
   "cell_type": "code",
   "execution_count": null,
   "id": "f8a198a3",
   "metadata": {},
   "outputs": [],
   "source": []
  },
  {
   "cell_type": "code",
   "execution_count": null,
   "id": "4a9c25fb",
   "metadata": {},
   "outputs": [],
   "source": []
  },
  {
   "cell_type": "code",
   "execution_count": null,
   "id": "beff613f",
   "metadata": {},
   "outputs": [],
   "source": []
  }
 ],
 "metadata": {
  "kernelspec": {
   "display_name": "Python 3 (ipykernel)",
   "language": "python",
   "name": "python3"
  },
  "language_info": {
   "codemirror_mode": {
    "name": "ipython",
    "version": 3
   },
   "file_extension": ".py",
   "mimetype": "text/x-python",
   "name": "python",
   "nbconvert_exporter": "python",
   "pygments_lexer": "ipython3",
   "version": "3.11.4"
  }
 },
 "nbformat": 4,
 "nbformat_minor": 5
}
